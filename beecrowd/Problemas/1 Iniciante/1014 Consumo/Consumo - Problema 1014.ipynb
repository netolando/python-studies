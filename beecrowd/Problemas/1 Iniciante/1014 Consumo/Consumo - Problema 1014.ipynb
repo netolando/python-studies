{
 "cells": [
  {
   "cell_type": "code",
   "execution_count": 1,
   "id": "056fff3c",
   "metadata": {},
   "outputs": [
    {
     "name": "stdout",
     "output_type": "stream",
     "text": [
      "500\n",
      "35.0\n",
      "14.286 km/l\n"
     ]
    }
   ],
   "source": [
    "x = int(input())\n",
    "y = float(input())\n",
    "\n",
    "consumption = x/y\n",
    "\n",
    "print('{:.3f} km/l'.format(consumption))"
   ]
  },
  {
   "cell_type": "code",
   "execution_count": null,
   "id": "68c394a7",
   "metadata": {},
   "outputs": [],
   "source": []
  }
 ],
 "metadata": {
  "kernelspec": {
   "display_name": "Python 3",
   "language": "python",
   "name": "python3"
  },
  "language_info": {
   "codemirror_mode": {
    "name": "ipython",
    "version": 3
   },
   "file_extension": ".py",
   "mimetype": "text/x-python",
   "name": "python",
   "nbconvert_exporter": "python",
   "pygments_lexer": "ipython3",
   "version": "3.6.15"
  }
 },
 "nbformat": 4,
 "nbformat_minor": 5
}
