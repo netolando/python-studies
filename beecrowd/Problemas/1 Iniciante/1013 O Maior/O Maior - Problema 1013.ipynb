{
 "cells": [
  {
   "cell_type": "code",
   "execution_count": 15,
   "id": "da0bb665",
   "metadata": {},
   "outputs": [
    {
     "name": "stdout",
     "output_type": "stream",
     "text": [
      "7 14 106\n",
      "106 eh o maior\n"
     ]
    }
   ],
   "source": [
    "values_list = input().split()\n",
    "a = int(values_list[0])\n",
    "b = int(values_list[1])\n",
    "c = int(values_list[2])\n",
    "\n",
    "greater_1 = (a+b+abs(a-b))/2\n",
    "\n",
    "greatest = int((greater_1+c+abs(greater_1-c))/2)\n",
    "\n",
    "print(greatest,'eh o maior')"
   ]
  },
  {
   "cell_type": "code",
   "execution_count": null,
   "id": "11ae103e",
   "metadata": {},
   "outputs": [],
   "source": []
  }
 ],
 "metadata": {
  "kernelspec": {
   "display_name": "Python 3",
   "language": "python",
   "name": "python3"
  },
  "language_info": {
   "codemirror_mode": {
    "name": "ipython",
    "version": 3
   },
   "file_extension": ".py",
   "mimetype": "text/x-python",
   "name": "python",
   "nbconvert_exporter": "python",
   "pygments_lexer": "ipython3",
   "version": "3.6.13"
  }
 },
 "nbformat": 4,
 "nbformat_minor": 5
}
