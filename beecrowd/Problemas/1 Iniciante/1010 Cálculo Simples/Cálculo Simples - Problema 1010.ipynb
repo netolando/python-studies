{
 "cells": [
  {
   "cell_type": "code",
   "execution_count": 1,
   "id": "dcd4dea5",
   "metadata": {},
   "outputs": [
    {
     "name": "stdout",
     "output_type": "stream",
     "text": [
      "12 1 5.30\n",
      "16 2 5.10\n",
      "TOTAL A PAGAR = R$ 15.50\n"
     ]
    }
   ],
   "source": [
    "var_1 = input().split()\n",
    "var_2 = input().split()\n",
    "\n",
    "code_1, num_1, value_1 = int(var_1[0]), int(var_1[1]), float(var_1[2])\n",
    "code_2, num_2, value_2 = int(var_2[0]), int(var_2[1]), float(var_2[2])\n",
    "\n",
    "total_value = num_1*value_1 + num_2*value_2\n",
    "print('TOTAL A PAGAR = R$ {:.2f}'.format(total_value))"
   ]
  },
  {
   "cell_type": "code",
   "execution_count": null,
   "id": "8b860297",
   "metadata": {},
   "outputs": [],
   "source": []
  }
 ],
 "metadata": {
  "kernelspec": {
   "display_name": "Python 3",
   "language": "python",
   "name": "python3"
  },
  "language_info": {
   "codemirror_mode": {
    "name": "ipython",
    "version": 3
   },
   "file_extension": ".py",
   "mimetype": "text/x-python",
   "name": "python",
   "nbconvert_exporter": "python",
   "pygments_lexer": "ipython3",
   "version": "3.6.15"
  }
 },
 "nbformat": 4,
 "nbformat_minor": 5
}
