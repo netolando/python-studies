{
 "cells": [
  {
   "cell_type": "code",
   "execution_count": 1,
   "id": "05312efb",
   "metadata": {},
   "outputs": [
    {
     "name": "stdout",
     "output_type": "stream",
     "text": [
      "1.0 7.0\n",
      "5.0 9.0\n",
      "4.4721\n"
     ]
    }
   ],
   "source": [
    "p1 = input().split()\n",
    "p2 = input().split()\n",
    "\n",
    "x1 = float(p1[0])\n",
    "y1 = float(p1[1])\n",
    "\n",
    "x2 = float(p2[0])\n",
    "y2 = float(p2[1])\n",
    "\n",
    "dist = ((x2-x1)**2 + (y2-y1)**2)**(1/2)\n",
    "print('{:.4f}'.format(dist))"
   ]
  },
  {
   "cell_type": "code",
   "execution_count": null,
   "id": "e265a863",
   "metadata": {},
   "outputs": [],
   "source": []
  }
 ],
 "metadata": {
  "kernelspec": {
   "display_name": "Python 3",
   "language": "python",
   "name": "python3"
  },
  "language_info": {
   "codemirror_mode": {
    "name": "ipython",
    "version": 3
   },
   "file_extension": ".py",
   "mimetype": "text/x-python",
   "name": "python",
   "nbconvert_exporter": "python",
   "pygments_lexer": "ipython3",
   "version": "3.6.15"
  }
 },
 "nbformat": 4,
 "nbformat_minor": 5
}
