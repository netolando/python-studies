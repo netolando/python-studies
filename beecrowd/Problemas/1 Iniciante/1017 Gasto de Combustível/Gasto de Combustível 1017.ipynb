{
 "cells": [
  {
   "cell_type": "markdown",
   "metadata": {},
   "source": [
    "Joaozinho quer calcular e mostrar a quantidade de litros de combustível gastos em uma viagem, ao utilizar um automóvel que faz 12 KM/L. Para isso, ele gostaria que você o auxiliasse através de um simples programa. Para efetuar o cálculo, deve-se fornecer o tempo gasto na viagem (em horas) e a velocidade média durante a mesma (em km/h). Assim, pode-se obter distância percorrida e, em seguida, calcular quantos litros seriam necessários. Mostre o valor com 3 casas decimais após o ponto.\n",
    "\n",
    "Entrada\n",
    "O arquivo de entrada contém dois inteiros. O primeiro é o tempo gasto na viagem (em horas) e o segundo é a velocidade média durante a mesma (em km/h).\n",
    "\n",
    "Saída\n",
    "Imprima a quantidade de litros necessária para realizar a viagem, com três dígitos após o ponto decimal"
   ]
  },
  {
   "cell_type": "code",
   "execution_count": 2,
   "metadata": {},
   "outputs": [
    {
     "name": "stdout",
     "output_type": "stream",
     "text": [
      "70.833\n"
     ]
    }
   ],
   "source": [
    "'''\n",
    "12 km/l\n",
    "\n",
    "distancia = tempo * velocidade\n",
    "litros = distancia / rendimento\n",
    "\n",
    "input\n",
    "tempo gasto\n",
    "velocidade media\n",
    "\n",
    "output\n",
    "\n",
    "distancia\n",
    "litros necessarios\n",
    "\n",
    "'''\n",
    "\n",
    "tempo = int(input())\n",
    "velocidade = int(input())\n",
    "\n",
    "distancia = float(tempo * velocidade)\n",
    "litros = distancia / 12\n",
    "\n",
    "print('{:.3f}'.format(litros))"
   ]
  }
 ],
 "metadata": {
  "interpreter": {
   "hash": "767d51c1340bd893661ea55ea3124f6de3c7a262a8b4abca0554b478b1e2ff90"
  },
  "kernelspec": {
   "display_name": "Python 2.7.16 64-bit",
   "language": "python",
   "name": "python3"
  },
  "language_info": {
   "codemirror_mode": {
    "name": "ipython",
    "version": 2
   },
   "file_extension": ".py",
   "mimetype": "text/x-python",
   "name": "python",
   "nbconvert_exporter": "python",
   "pygments_lexer": "ipython2",
   "version": "2.7.16"
  },
  "orig_nbformat": 4
 },
 "nbformat": 4,
 "nbformat_minor": 2
}
