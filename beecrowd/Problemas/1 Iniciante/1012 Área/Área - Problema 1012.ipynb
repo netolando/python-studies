{
 "cells": [
  {
   "cell_type": "code",
   "execution_count": 1,
   "id": "d8d3926f",
   "metadata": {},
   "outputs": [
    {
     "name": "stdout",
     "output_type": "stream",
     "text": [
      "3.0 4.0 5.2\n",
      "TRIANGULO: 7.800\n",
      "CIRCULO: 84.949\n",
      "TRAPEZIO: 18.200\n",
      "QUADRADO: 16.000\n",
      "RETANGULO: 12.000\n"
     ]
    }
   ],
   "source": [
    "lista_valores = input().split()\n",
    "A = float(lista_valores[0])\n",
    "B = float(lista_valores[1])\n",
    "C = float(lista_valores[2])\n",
    "\n",
    "pi = 3.14159\n",
    "\n",
    "area_triangulo = A*C/2\n",
    "area_circulo = pi*C**2\n",
    "area_trapezio = (A+B)*C/2\n",
    "area_quadrado = B**2\n",
    "area_retangulo = A*B\n",
    "\n",
    "print('TRIANGULO: {:.3f}'.format(area_triangulo))\n",
    "print('CIRCULO: {:.3f}'.format(area_circulo))\n",
    "print('TRAPEZIO: {:.3f}'.format(area_trapezio))\n",
    "print('QUADRADO: {:.3f}'.format(area_quadrado))\n",
    "print('RETANGULO: {:.3f}'.format(area_retangulo))"
   ]
  },
  {
   "cell_type": "code",
   "execution_count": null,
   "id": "c9d3be2a",
   "metadata": {},
   "outputs": [],
   "source": []
  }
 ],
 "metadata": {
  "kernelspec": {
   "display_name": "Python 3",
   "language": "python",
   "name": "python3"
  },
  "language_info": {
   "codemirror_mode": {
    "name": "ipython",
    "version": 3
   },
   "file_extension": ".py",
   "mimetype": "text/x-python",
   "name": "python",
   "nbconvert_exporter": "python",
   "pygments_lexer": "ipython3",
   "version": "3.6.13"
  }
 },
 "nbformat": 4,
 "nbformat_minor": 5
}
